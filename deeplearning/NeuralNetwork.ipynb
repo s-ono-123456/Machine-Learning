{
 "cells": [
  {
   "cell_type": "code",
   "execution_count": 2,
   "id": "d7dcfc7e-953a-417f-94df-ae1e0be6458d",
   "metadata": {},
   "outputs": [],
   "source": [
    "from dataset.mnist import load_mnist\n",
    "from PIL import Image\n",
    "import numpy as np\n",
    "import matplotlib.pyplot as plt"
   ]
  },
  {
   "cell_type": "code",
   "execution_count": 3,
   "id": "5d948121-3c32-40eb-991b-c21e8cb822a4",
   "metadata": {},
   "outputs": [],
   "source": [
    "# パラメータの指定\n",
    "batch_size = 100     # ミニバッチのサイズ\n",
    "iters_num = 10000    # イテレーション回数\n",
    "learning_rate = 0.1  # 学習率\n",
    "\n",
    "input_size = 784     # 入力数（784要素あるため、784個）\n",
    "hidden_size = 50     # 隠れ層のサイズ：50と仮定\n",
    "output_size = 10     # 出力層：10　one-hotエンコーディングで0～9を割り当て\n",
    "weight_init_std=0.01 # 重みに対してかける定数"
   ]
  },
  {
   "cell_type": "code",
   "execution_count": 4,
   "id": "4d4c1908-425b-47ec-9c59-c926f6a231ec",
   "metadata": {},
   "outputs": [
    {
     "name": "stdout",
     "output_type": "stream",
     "text": [
      "(60000, 784)\n",
      "(60000, 10)\n",
      "(10000, 784)\n",
      "(10000, 10)\n"
     ]
    }
   ],
   "source": [
    "# MNISTデータセットの取得\n",
    "(x_train, t_train), (x_test, t_test) = load_mnist(normalize=True, one_hot_label=True)\n",
    "print(x_train.shape) # (60000, 784)\n",
    "print(t_train.shape) # (60000,)\n",
    "print(x_test.shape)  # (10000, 784)\n",
    "print(t_test.shape)  # (10000,)"
   ]
  },
  {
   "cell_type": "code",
   "execution_count": 6,
   "id": "50cf09b0-78e8-4745-9acc-e3f9448d6d20",
   "metadata": {},
   "outputs": [
    {
     "name": "stdout",
     "output_type": "stream",
     "text": [
      "※5をone-hotエンコーディングで表している\n"
     ]
    },
    {
     "data": {
      "text/plain": [
       "<matplotlib.image.AxesImage at 0x7f8afb5563d0>"
      ]
     },
     "execution_count": 6,
     "metadata": {},
     "output_type": "execute_result"
    },
    {
     "data": {
      "image/png": "[encoded data removed]",
      "text/plain": [
       "<Figure size 432x288 with 1 Axes>"
      ]
     },
     "metadata": {
      "needs_background": "light"
     },
     "output_type": "display_data"
    }
   ],
   "source": [
    "# MNISTデータセットを表示してみる。\n",
    "img = x_train[0].reshape(28, 28)\n",
    "#print(x_train[0])\n",
    "print('※5をone-hotエンコーディングで表している')\n",
    "plt.imshow(img, cmap=plt.cm.gray_r)"
   ]
  },
  {
   "cell_type": "code",
   "execution_count": 5,
   "id": "9de9b180-ad10-4adc-aaac-0dfffc556683",
   "metadata": {},
   "outputs": [
    {
     "data": {
      "text/plain": [
       "(784,)"
      ]
     },
     "execution_count": 5,
     "metadata": {},
     "output_type": "execute_result"
    }
   ],
   "source": [
    "# 28*28の二次元データを784個(28*28)の要素を持つ1次元データとして格納している。\n",
    "#また、色の濃さは0～1までの数字で保存されている。（0が白、1が黒）\n",
    "x_train[0].shape"
   ]
  },
  {
   "cell_type": "code",
   "execution_count": 6,
   "id": "6a85260b-c81a-4791-ad91-7efdcef76d9b",
   "metadata": {},
   "outputs": [],
   "source": [
    "def cross_entropy_error(y, t):\n",
    "    if y.ndim == 1:\n",
    "        t = t.reshape(1, t.size)\n",
    "        y = y.reshape(1, y.size)\n",
    "        \n",
    "    # 教師データがone-hot-vectorの場合、正解ラベルのインデックスに変換\n",
    "    if t.size == y.size:\n",
    "        t = t.argmax(axis=1)\n",
    "             \n",
    "    batch_size = y.shape[0]\n",
    "    return -np.sum(np.log(y[np.arange(batch_size), t] + 1e-7)) / batch_size"
   ]
  },
  {
   "cell_type": "code",
   "execution_count": 7,
   "id": "a5608937-ad4f-4dbd-80c5-7d9dd3b4e50c",
   "metadata": {},
   "outputs": [],
   "source": [
    "def softmax(x):\n",
    "    x = x - np.max(x, axis=-1, keepdims=True)   # オーバーフロー対策\n",
    "    return np.exp(x) / np.sum(np.exp(x), axis=-1, keepdims=True)"
   ]
  },
  {
   "cell_type": "code",
   "execution_count": 8,
   "id": "a140aa03-ea89-4477-91e8-a4e254789a4a",
   "metadata": {},
   "outputs": [],
   "source": [
    "def sigmoid(x):\n",
    "    return 1 / (1 + np.exp(-x))"
   ]
  },
  {
   "cell_type": "code",
   "execution_count": 9,
   "id": "77ce2007-70cf-4fa1-b203-14880debb196",
   "metadata": {},
   "outputs": [],
   "source": [
    "def predict(x, params):\n",
    "    W1, W2 = params['W1'], params['W2']\n",
    "    b1, b2 = params['b1'], params['b2']\n",
    "\n",
    "    a1 = np.dot(x, W1) + b1\n",
    "    z1 = sigmoid(a1)\n",
    "    a2 = np.dot(z1, W2) + b2\n",
    "    y = softmax(a2)\n",
    "\n",
    "    return y"
   ]
  },
  {
   "cell_type": "code",
   "execution_count": 10,
   "id": "92064629-a47d-4846-a75d-80036df31ddd",
   "metadata": {},
   "outputs": [],
   "source": [
    "def loss(x, t, params):\n",
    "    y = predict(x, params)\n",
    "\n",
    "    return cross_entropy_error(y, t)"
   ]
  },
  {
   "cell_type": "code",
   "execution_count": null,
   "id": "9a0936ef-8945-4bfd-a2b5-b217912e084f",
   "metadata": {},
   "outputs": [],
   "source": [
    "# 誤差逆伝播法でパラメータの更新を行う。"
   ]
  },
  {
   "cell_type": "code",
   "execution_count": 13,
   "id": "aa3e2b7c-d580-4d55-be21-fe4ca0a80c7d",
   "metadata": {},
   "outputs": [],
   "source": [
    "def sigmoid_grad(x):\n",
    "    return (1.0 - sigmoid(x)) * sigmoid(x)"
   ]
  },
  {
   "cell_type": "code",
   "execution_count": 33,
   "id": "12fe4215-ab9a-4cce-be68-3005b7920074",
   "metadata": {
    "tags": []
   },
   "outputs": [],
   "source": [
    "train_size = x_train.shape[0]\n",
    "batch_size = 100     # ミニバッチのサイズ\n",
    "iters_num = 10001   # イテレーション回数\n",
    "learning_rate = 0.1  # 学習率\n",
    "\n",
    "input_size = 784     # 入力数（784要素あるため、784個）\n",
    "hidden_size = 50     # 隠れ層のサイズ：50と仮定\n",
    "output_size = 10     # 出力層：10　one-hotエンコーディングで0～9を割り当て\n",
    "weight_init_std=0.01 # 重みに対してかける定数\n",
    "\n",
    "params = {}\n",
    "params['W1'] = weight_init_std * np.random.randn(input_size, hidden_size)\n",
    "params['b1'] = np.zeros(hidden_size)\n",
    "params['W2'] = weight_init_std * np.random.randn(hidden_size, output_size)\n",
    "params['b2'] = np.zeros(output_size)\n",
    "\n",
    "# 損失関数と誤差を保持する配列\n",
    "train_loss = []\n",
    "train_accuracy = []\n",
    "test_accuracy = []\n",
    "iters = []\n",
    "\n",
    "for i in range(iters_num):\n",
    "    # ミニバッチの取得\n",
    "\n",
    "    batch_mask = np.random.choice(train_size, batch_size)\n",
    "    x_batch = x_train[batch_mask]\n",
    "    t_batch = t_train[batch_mask]\n",
    "\n",
    "    # 勾配の計算\n",
    "    W1, W2 = params['W1'], params['W2']\n",
    "    b1, b2 = params['b1'], params['b2']\n",
    "    grads = {}\n",
    "\n",
    "    batch_num = x_batch.shape[0]\n",
    "\n",
    "    # forward\n",
    "    a1 = np.dot(x_batch, W1) + b1\n",
    "    z1 = sigmoid(a1)\n",
    "    a2 = np.dot(z1, W2) + b2\n",
    "    y = softmax(a2)\n",
    "\n",
    "    # backward\n",
    "    dy = (y - t_batch) / batch_num\n",
    "    grads['W2'] = np.dot(z1.T, dy)\n",
    "    grads['b2'] = np.sum(dy, axis=0)\n",
    "\n",
    "    dz1 = np.dot(dy, W2.T)\n",
    "    da1 = (1.0 - sigmoid(a1)) * sigmoid(a1) * dz1\n",
    "    grads['W1'] = np.dot(x_batch.T, da1)\n",
    "    grads['b1'] = np.sum(da1, axis=0)\n",
    "\n",
    "    # パラメータの更新\n",
    "    for key in ('W1', 'b1', 'W2', 'b2'):\n",
    "        params[key] -= learning_rate * grads[key]\n",
    "    if i % 100 == 0:\n",
    "        train_acc = accuracy(x_train, t_train, params)\n",
    "        test_acc = accuracy(x_test, t_test, params)\n",
    "        #print('{}回目:{}'.format(i,loss(x_batch, t_batch, params)))\n",
    "        train_loss.append(loss(x_batch, t_batch, params))\n",
    "        train_accuracy.append(train_acc)\n",
    "        test_accuracy.append(test_acc)\n",
    "        iters.append(i)"
   ]
  },
  {
   "cell_type": "code",
   "execution_count": 34,
   "id": "dabe7593-e76d-451e-9acd-38c949119cef",
   "metadata": {},
   "outputs": [
    {
     "data": {
      "image/png": "[encoded data removed]",
      "text/plain": [
       "<Figure size 432x288 with 1 Axes>"
      ]
     },
     "metadata": {
      "needs_background": "light"
     },
     "output_type": "display_data"
    }
   ],
   "source": [
    "plt.plot(iters, train_loss, color = \"red\", linestyle = \"solid\" ,label = 'train loss')\n",
    "plt.legend()\n",
    "plt.grid()"
   ]
  },
  {
   "cell_type": "code",
   "execution_count": 35,
   "id": "98c0f283-27b6-4fb9-8e82-0d251ee85123",
   "metadata": {},
   "outputs": [
    {
     "data": {
      "image/png": "[encoded data removed]",
      "text/plain": [
       "<Figure size 432x288 with 1 Axes>"
      ]
     },
     "metadata": {
      "needs_background": "light"
     },
     "output_type": "display_data"
    }
   ],
   "source": [
    "plt.plot(iters, train_accuracy, color = \"orange\", linestyle = \"solid\" , label= 'train accuracy')\n",
    "plt.plot(iters, test_accuracy, color = \"blue\", linestyle = \"solid\" , label= 'test accuracy')\n",
    "plt.legend()\n",
    "plt.grid()"
   ]
  },
  {
   "cell_type": "code",
   "execution_count": 36,
   "id": "2d6447b0-a7e7-49aa-adb8-afe1f7f96060",
   "metadata": {},
   "outputs": [
    {
     "name": "stdout",
     "output_type": "stream",
     "text": [
      "0.9486333333333333\n",
      "0.9448\n"
     ]
    }
   ],
   "source": [
    "train_acc = accuracy(x_train, t_train, params)\n",
    "test_acc = accuracy(x_test, t_test, params)\n",
    "print(train_acc) # 0.9486\n",
    "print(test_acc)  # 0.9448"
   ]
  }
 ],
 "metadata": {
  "kernelspec": {
   "display_name": "Python 3 (ipykernel)",
   "language": "python",
   "name": "python3"
  },
  "language_info": {
   "codemirror_mode": {
    "name": "ipython",
    "version": 3
   },
   "file_extension": ".py",
   "mimetype": "text/x-python",
   "name": "python",
   "nbconvert_exporter": "python",
   "pygments_lexer": "ipython3",
   "version": "3.9.7"
  }
 },
 "nbformat": 4,
 "nbformat_minor": 5
}
